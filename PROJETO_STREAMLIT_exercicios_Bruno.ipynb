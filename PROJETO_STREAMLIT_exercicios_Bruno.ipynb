{
  "nbformat": 4,
  "nbformat_minor": 0,
  "metadata": {
    "colab": {
      "name": "PROJETO_STREAMLIT_exercicios_Bruno.ipynb",
      "provenance": [],
      "collapsed_sections": [],
      "include_colab_link": true
    },
    "kernelspec": {
      "display_name": "Python 3",
      "name": "python3"
    },
    "language_info": {
      "name": "python"
    }
  },
  "cells": [
    {
      "cell_type": "markdown",
      "metadata": {
        "id": "view-in-github",
        "colab_type": "text"
      },
      "source": [
        "<a href=\"https://colab.research.google.com/github/brnpessoasts/Projeto_Streamlit/blob/main/PROJETO_STREAMLIT_exercicios_Bruno.ipynb\" target=\"_parent\"><img src=\"https://colab.research.google.com/assets/colab-badge.svg\" alt=\"Open In Colab\"/></a>"
      ]
    },
    {
      "cell_type": "markdown",
      "metadata": {
        "id": "xsDf_v4acvAD"
      },
      "source": [
        "<center><img src=\"https://raw.githubusercontent.com/rafael-arevalo/orbeai/master/Logo-Orbe-sem-fundo.png\" height=\"300px\"></center>\n",
        "\n",
        "\n",
        "# **STREAMLIT: projeto - exercícios.**\n",
        "\n",
        "<center><img src=\"https://raw.githubusercontent.com/rafael-arevalo/orbeai/master/M05_streamlit_logo.png\" height=\"100px\"></center>"
      ]
    },
    {
      "cell_type": "markdown",
      "metadata": {
        "id": "PZ899Kilc9I1"
      },
      "source": [
        "## **01.COMPREENDER O NEGÓCIO.**"
      ]
    },
    {
      "cell_type": "markdown",
      "metadata": {
        "id": "NckG8sLHhBGp"
      },
      "source": [
        "- Definal qual o **problema de classificação** do seu projeto.\n",
        "- Defina quais são as **classes a serem preditas** no seu projeto.\n",
        "\n",
        "- Exemplo:\n",
        "\n",
        " - **Problema:**\n",
        "    - **Classe 01:**\n",
        "    - **Classe 02:**\n"
      ]
    },
    {
      "cell_type": "markdown",
      "metadata": {
        "id": "Cmmr1RY1dFfl"
      },
      "source": [
        "## **02.TREINAR O MODELO DE CLASSIFICAÇÃO.**"
      ]
    },
    {
      "cell_type": "markdown",
      "metadata": {
        "id": "sMz0PJeOhWaW"
      },
      "source": [
        "- Para treinar e obter o modelo de classificação, vamos usar o site do *Teachable Machine* e realizar os seguintes passos:\n",
        "\n",
        "\n",
        "1.   Entre no site do [Teachable Machine.](https://teachablemachine.withgoogle.com/)\n",
        "2.   Clique no botão **começar** (*get started*).\n",
        "3.   Em NOVO PROJETO selecione a opção **Projeto de imagem.** (*image project*).\n",
        "4.   Selecione a opção **modelo de imagem padrão**.\n",
        "5.   Treine o seu modelo com as imagens necessárias (assim como no projeto do módulo 01).\n",
        "6.   Exporte o modelo clicando no botão **exportar modelo**, em seguida na aba **Tensorflow** e por fim clique no botão **Transferir o meu modelo** (*download my model*).\n",
        "7.   Após o *download*, transfira o arquivo do modelo (keras_model.h5) para a área de arquivos no Google Colab (assim como fazemos com os *datasets*). \n",
        " - **Observação:** caso o arquivo venha **\"zipado\"** do *download*, primeiro retire o arquivo do modelo (keras_model.h5) da pasta **\"zipada\"** e só depois inclua o arquivo (keras_model.h5) na área de arquivos do Google Colab na lateral esquerda. \n",
        "\n"
      ]
    },
    {
      "cell_type": "markdown",
      "metadata": {
        "id": "zCZedw4idNat"
      },
      "source": [
        "## **03.INSTALANDO AS BIBLIOTECAS NECESSÁRIAS.**"
      ]
    },
    {
      "cell_type": "markdown",
      "metadata": {
        "id": "_qWAXlAhka7m"
      },
      "source": [
        "- Para este projeto precisamos instalar as seguintes bibliotecas:\n",
        "\n",
        "\n",
        "  - **numpy** - para trabalhar com números.\n",
        "  - **pillow** -  para trabalhar com imagens.\n",
        "  - **tensorflow** - para trabalhar com inteligênicia artificial.\n",
        "  - **keras** - para trabalhar com inteligênicia artificial.\n",
        "  -  **streamlit** - para criar o aplicativo.\n",
        "\n",
        "- Para instalar as bibliotecas:\n",
        "\n",
        "````\n",
        "!pip install numpy\n",
        "!pip install pillow\n",
        "!pip install tensorflow\n",
        "!pip install keras\n",
        "!pip install streamlit\n",
        "````\n"
      ]
    },
    {
      "cell_type": "code",
      "metadata": {
        "id": "ZL2nRug-kg0_",
        "colab": {
          "base_uri": "https://localhost:8080/",
          "height": 1000
        },
        "outputId": "07933091-76f1-4a46-a088-79c2451290aa"
      },
      "source": [
        "# Instalando as bibliotecas necessárias.\n",
        "!pip install numpy\n",
        "!pip install pillow\n",
        "!pip install tensorflow\n",
        "!pip install keras\n",
        "!pip install streamlit\n",
        "\n"
      ],
      "execution_count": 1,
      "outputs": [
        {
          "output_type": "stream",
          "name": "stdout",
          "text": [
            "Requirement already satisfied: numpy in /usr/local/lib/python3.7/dist-packages (1.21.5)\n",
            "Requirement already satisfied: pillow in /usr/local/lib/python3.7/dist-packages (7.1.2)\n",
            "Requirement already satisfied: tensorflow in /usr/local/lib/python3.7/dist-packages (2.8.0)\n",
            "Requirement already satisfied: protobuf>=3.9.2 in /usr/local/lib/python3.7/dist-packages (from tensorflow) (3.17.3)\n",
            "Requirement already satisfied: numpy>=1.20 in /usr/local/lib/python3.7/dist-packages (from tensorflow) (1.21.5)\n",
            "Requirement already satisfied: tensorflow-io-gcs-filesystem>=0.23.1 in /usr/local/lib/python3.7/dist-packages (from tensorflow) (0.24.0)\n",
            "Requirement already satisfied: keras-preprocessing>=1.1.1 in /usr/local/lib/python3.7/dist-packages (from tensorflow) (1.1.2)\n",
            "Requirement already satisfied: h5py>=2.9.0 in /usr/local/lib/python3.7/dist-packages (from tensorflow) (3.1.0)\n",
            "Requirement already satisfied: grpcio<2.0,>=1.24.3 in /usr/local/lib/python3.7/dist-packages (from tensorflow) (1.43.0)\n",
            "Requirement already satisfied: tensorboard<2.9,>=2.8 in /usr/local/lib/python3.7/dist-packages (from tensorflow) (2.8.0)\n",
            "Requirement already satisfied: gast>=0.2.1 in /usr/local/lib/python3.7/dist-packages (from tensorflow) (0.5.3)\n",
            "Requirement already satisfied: keras<2.9,>=2.8.0rc0 in /usr/local/lib/python3.7/dist-packages (from tensorflow) (2.8.0)\n",
            "Requirement already satisfied: setuptools in /usr/local/lib/python3.7/dist-packages (from tensorflow) (57.4.0)\n",
            "Requirement already satisfied: typing-extensions>=3.6.6 in /usr/local/lib/python3.7/dist-packages (from tensorflow) (3.10.0.2)\n",
            "Requirement already satisfied: opt-einsum>=2.3.2 in /usr/local/lib/python3.7/dist-packages (from tensorflow) (3.3.0)\n",
            "Collecting tf-estimator-nightly==2.8.0.dev2021122109\n",
            "  Downloading tf_estimator_nightly-2.8.0.dev2021122109-py2.py3-none-any.whl (462 kB)\n",
            "\u001b[K     |████████████████████████████████| 462 kB 5.0 MB/s \n",
            "\u001b[?25hRequirement already satisfied: astunparse>=1.6.0 in /usr/local/lib/python3.7/dist-packages (from tensorflow) (1.6.3)\n",
            "Requirement already satisfied: libclang>=9.0.1 in /usr/local/lib/python3.7/dist-packages (from tensorflow) (13.0.0)\n",
            "Requirement already satisfied: absl-py>=0.4.0 in /usr/local/lib/python3.7/dist-packages (from tensorflow) (1.0.0)\n",
            "Requirement already satisfied: termcolor>=1.1.0 in /usr/local/lib/python3.7/dist-packages (from tensorflow) (1.1.0)\n",
            "Requirement already satisfied: wrapt>=1.11.0 in /usr/local/lib/python3.7/dist-packages (from tensorflow) (1.13.3)\n",
            "Requirement already satisfied: flatbuffers>=1.12 in /usr/local/lib/python3.7/dist-packages (from tensorflow) (2.0)\n",
            "Requirement already satisfied: google-pasta>=0.1.1 in /usr/local/lib/python3.7/dist-packages (from tensorflow) (0.2.0)\n",
            "Requirement already satisfied: six>=1.12.0 in /usr/local/lib/python3.7/dist-packages (from tensorflow) (1.15.0)\n",
            "Requirement already satisfied: wheel<1.0,>=0.23.0 in /usr/local/lib/python3.7/dist-packages (from astunparse>=1.6.0->tensorflow) (0.37.1)\n",
            "Requirement already satisfied: cached-property in /usr/local/lib/python3.7/dist-packages (from h5py>=2.9.0->tensorflow) (1.5.2)\n",
            "Requirement already satisfied: tensorboard-plugin-wit>=1.6.0 in /usr/local/lib/python3.7/dist-packages (from tensorboard<2.9,>=2.8->tensorflow) (1.8.1)\n",
            "Requirement already satisfied: requests<3,>=2.21.0 in /usr/local/lib/python3.7/dist-packages (from tensorboard<2.9,>=2.8->tensorflow) (2.23.0)\n",
            "Requirement already satisfied: tensorboard-data-server<0.7.0,>=0.6.0 in /usr/local/lib/python3.7/dist-packages (from tensorboard<2.9,>=2.8->tensorflow) (0.6.1)\n",
            "Requirement already satisfied: google-auth-oauthlib<0.5,>=0.4.1 in /usr/local/lib/python3.7/dist-packages (from tensorboard<2.9,>=2.8->tensorflow) (0.4.6)\n",
            "Requirement already satisfied: markdown>=2.6.8 in /usr/local/lib/python3.7/dist-packages (from tensorboard<2.9,>=2.8->tensorflow) (3.3.6)\n",
            "Requirement already satisfied: google-auth<3,>=1.6.3 in /usr/local/lib/python3.7/dist-packages (from tensorboard<2.9,>=2.8->tensorflow) (1.35.0)\n",
            "Requirement already satisfied: werkzeug>=0.11.15 in /usr/local/lib/python3.7/dist-packages (from tensorboard<2.9,>=2.8->tensorflow) (1.0.1)\n",
            "Requirement already satisfied: rsa<5,>=3.1.4 in /usr/local/lib/python3.7/dist-packages (from google-auth<3,>=1.6.3->tensorboard<2.9,>=2.8->tensorflow) (4.8)\n",
            "Requirement already satisfied: cachetools<5.0,>=2.0.0 in /usr/local/lib/python3.7/dist-packages (from google-auth<3,>=1.6.3->tensorboard<2.9,>=2.8->tensorflow) (4.2.4)\n",
            "Requirement already satisfied: pyasn1-modules>=0.2.1 in /usr/local/lib/python3.7/dist-packages (from google-auth<3,>=1.6.3->tensorboard<2.9,>=2.8->tensorflow) (0.2.8)\n",
            "Requirement already satisfied: requests-oauthlib>=0.7.0 in /usr/local/lib/python3.7/dist-packages (from google-auth-oauthlib<0.5,>=0.4.1->tensorboard<2.9,>=2.8->tensorflow) (1.3.1)\n",
            "Requirement already satisfied: importlib-metadata>=4.4 in /usr/local/lib/python3.7/dist-packages (from markdown>=2.6.8->tensorboard<2.9,>=2.8->tensorflow) (4.11.1)\n",
            "Requirement already satisfied: zipp>=0.5 in /usr/local/lib/python3.7/dist-packages (from importlib-metadata>=4.4->markdown>=2.6.8->tensorboard<2.9,>=2.8->tensorflow) (3.7.0)\n",
            "Requirement already satisfied: pyasn1<0.5.0,>=0.4.6 in /usr/local/lib/python3.7/dist-packages (from pyasn1-modules>=0.2.1->google-auth<3,>=1.6.3->tensorboard<2.9,>=2.8->tensorflow) (0.4.8)\n",
            "Requirement already satisfied: idna<3,>=2.5 in /usr/local/lib/python3.7/dist-packages (from requests<3,>=2.21.0->tensorboard<2.9,>=2.8->tensorflow) (2.10)\n",
            "Requirement already satisfied: certifi>=2017.4.17 in /usr/local/lib/python3.7/dist-packages (from requests<3,>=2.21.0->tensorboard<2.9,>=2.8->tensorflow) (2021.10.8)\n",
            "Requirement already satisfied: urllib3!=1.25.0,!=1.25.1,<1.26,>=1.21.1 in /usr/local/lib/python3.7/dist-packages (from requests<3,>=2.21.0->tensorboard<2.9,>=2.8->tensorflow) (1.24.3)\n",
            "Requirement already satisfied: chardet<4,>=3.0.2 in /usr/local/lib/python3.7/dist-packages (from requests<3,>=2.21.0->tensorboard<2.9,>=2.8->tensorflow) (3.0.4)\n",
            "Requirement already satisfied: oauthlib>=3.0.0 in /usr/local/lib/python3.7/dist-packages (from requests-oauthlib>=0.7.0->google-auth-oauthlib<0.5,>=0.4.1->tensorboard<2.9,>=2.8->tensorflow) (3.2.0)\n",
            "Installing collected packages: tf-estimator-nightly\n",
            "Successfully installed tf-estimator-nightly-2.8.0.dev2021122109\n",
            "Requirement already satisfied: keras in /usr/local/lib/python3.7/dist-packages (2.8.0)\n",
            "Collecting streamlit\n",
            "  Downloading streamlit-1.6.0-py2.py3-none-any.whl (9.7 MB)\n",
            "\u001b[K     |████████████████████████████████| 9.7 MB 5.2 MB/s \n",
            "\u001b[?25hCollecting blinker\n",
            "  Downloading blinker-1.4.tar.gz (111 kB)\n",
            "\u001b[K     |████████████████████████████████| 111 kB 49.1 MB/s \n",
            "\u001b[?25hCollecting pydeck>=0.1.dev5\n",
            "  Downloading pydeck-0.7.1-py2.py3-none-any.whl (4.3 MB)\n",
            "\u001b[K     |████████████████████████████████| 4.3 MB 22.1 MB/s \n",
            "\u001b[?25hRequirement already satisfied: typing-extensions in /usr/local/lib/python3.7/dist-packages (from streamlit) (3.10.0.2)\n",
            "Requirement already satisfied: cachetools>=4.0 in /usr/local/lib/python3.7/dist-packages (from streamlit) (4.2.4)\n",
            "Collecting toml\n",
            "  Downloading toml-0.10.2-py2.py3-none-any.whl (16 kB)\n",
            "Requirement already satisfied: attrs in /usr/local/lib/python3.7/dist-packages (from streamlit) (21.4.0)\n",
            "Requirement already satisfied: altair>=3.2.0 in /usr/local/lib/python3.7/dist-packages (from streamlit) (4.2.0)\n",
            "Collecting pympler>=0.9\n",
            "  Downloading Pympler-1.0.1-py3-none-any.whl (164 kB)\n",
            "\u001b[K     |████████████████████████████████| 164 kB 37.0 MB/s \n",
            "\u001b[?25hRequirement already satisfied: semver in /usr/local/lib/python3.7/dist-packages (from streamlit) (2.13.0)\n",
            "Collecting base58\n",
            "  Downloading base58-2.1.1-py3-none-any.whl (5.6 kB)\n",
            "Requirement already satisfied: tzlocal in /usr/local/lib/python3.7/dist-packages (from streamlit) (1.5.1)\n",
            "Collecting gitpython!=3.1.19\n",
            "  Downloading GitPython-3.1.27-py3-none-any.whl (181 kB)\n",
            "\u001b[K     |████████████████████████████████| 181 kB 55.7 MB/s \n",
            "\u001b[?25hRequirement already satisfied: requests in /usr/local/lib/python3.7/dist-packages (from streamlit) (2.23.0)\n",
            "Requirement already satisfied: pyarrow in /usr/local/lib/python3.7/dist-packages (from streamlit) (6.0.1)\n",
            "Requirement already satisfied: click>=7.0 in /usr/local/lib/python3.7/dist-packages (from streamlit) (7.1.2)\n",
            "Collecting watchdog\n",
            "  Downloading watchdog-2.1.6-py3-none-manylinux2014_x86_64.whl (76 kB)\n",
            "\u001b[K     |████████████████████████████████| 76 kB 4.4 MB/s \n",
            "\u001b[?25hRequirement already satisfied: packaging in /usr/local/lib/python3.7/dist-packages (from streamlit) (21.3)\n",
            "Requirement already satisfied: pillow>=6.2.0 in /usr/local/lib/python3.7/dist-packages (from streamlit) (7.1.2)\n",
            "Requirement already satisfied: astor in /usr/local/lib/python3.7/dist-packages (from streamlit) (0.8.1)\n",
            "Requirement already satisfied: tornado>=5.0 in /usr/local/lib/python3.7/dist-packages (from streamlit) (5.1.1)\n",
            "Requirement already satisfied: pandas>=0.21.0 in /usr/local/lib/python3.7/dist-packages (from streamlit) (1.3.5)\n",
            "Collecting validators\n",
            "  Downloading validators-0.18.2-py3-none-any.whl (19 kB)\n",
            "Requirement already satisfied: protobuf!=3.11,>=3.6.0 in /usr/local/lib/python3.7/dist-packages (from streamlit) (3.17.3)\n",
            "Requirement already satisfied: numpy in /usr/local/lib/python3.7/dist-packages (from streamlit) (1.21.5)\n",
            "Requirement already satisfied: importlib-metadata>=1.4 in /usr/local/lib/python3.7/dist-packages (from streamlit) (4.11.1)\n",
            "Requirement already satisfied: python-dateutil in /usr/local/lib/python3.7/dist-packages (from streamlit) (2.8.2)\n",
            "Requirement already satisfied: jsonschema>=3.0 in /usr/local/lib/python3.7/dist-packages (from altair>=3.2.0->streamlit) (4.3.3)\n",
            "Requirement already satisfied: toolz in /usr/local/lib/python3.7/dist-packages (from altair>=3.2.0->streamlit) (0.11.2)\n",
            "Requirement already satisfied: jinja2 in /usr/local/lib/python3.7/dist-packages (from altair>=3.2.0->streamlit) (2.11.3)\n",
            "Requirement already satisfied: entrypoints in /usr/local/lib/python3.7/dist-packages (from altair>=3.2.0->streamlit) (0.4)\n",
            "Collecting gitdb<5,>=4.0.1\n",
            "  Downloading gitdb-4.0.9-py3-none-any.whl (63 kB)\n",
            "\u001b[K     |████████████████████████████████| 63 kB 1.4 MB/s \n",
            "\u001b[?25hCollecting smmap<6,>=3.0.1\n",
            "  Downloading smmap-5.0.0-py3-none-any.whl (24 kB)\n",
            "Requirement already satisfied: zipp>=0.5 in /usr/local/lib/python3.7/dist-packages (from importlib-metadata>=1.4->streamlit) (3.7.0)\n",
            "Requirement already satisfied: pyrsistent!=0.17.0,!=0.17.1,!=0.17.2,>=0.14.0 in /usr/local/lib/python3.7/dist-packages (from jsonschema>=3.0->altair>=3.2.0->streamlit) (0.18.1)\n",
            "Requirement already satisfied: importlib-resources>=1.4.0 in /usr/local/lib/python3.7/dist-packages (from jsonschema>=3.0->altair>=3.2.0->streamlit) (5.4.0)\n",
            "Requirement already satisfied: pytz>=2017.3 in /usr/local/lib/python3.7/dist-packages (from pandas>=0.21.0->streamlit) (2018.9)\n",
            "Requirement already satisfied: six>=1.9 in /usr/local/lib/python3.7/dist-packages (from protobuf!=3.11,>=3.6.0->streamlit) (1.15.0)\n",
            "Requirement already satisfied: ipywidgets>=7.0.0 in /usr/local/lib/python3.7/dist-packages (from pydeck>=0.1.dev5->streamlit) (7.6.5)\n",
            "Requirement already satisfied: traitlets>=4.3.2 in /usr/local/lib/python3.7/dist-packages (from pydeck>=0.1.dev5->streamlit) (5.1.1)\n",
            "Collecting ipykernel>=5.1.2\n",
            "  Downloading ipykernel-6.9.1-py3-none-any.whl (128 kB)\n",
            "\u001b[K     |████████████████████████████████| 128 kB 46.7 MB/s \n",
            "\u001b[?25hRequirement already satisfied: debugpy<2.0,>=1.0.0 in /usr/local/lib/python3.7/dist-packages (from ipykernel>=5.1.2->pydeck>=0.1.dev5->streamlit) (1.0.0)\n",
            "Requirement already satisfied: matplotlib-inline<0.2.0,>=0.1.0 in /usr/local/lib/python3.7/dist-packages (from ipykernel>=5.1.2->pydeck>=0.1.dev5->streamlit) (0.1.3)\n",
            "Collecting ipython>=7.23.1\n",
            "  Downloading ipython-7.32.0-py3-none-any.whl (793 kB)\n",
            "\u001b[K     |████████████████████████████████| 793 kB 41.4 MB/s \n",
            "\u001b[?25hRequirement already satisfied: nest-asyncio in /usr/local/lib/python3.7/dist-packages (from ipykernel>=5.1.2->pydeck>=0.1.dev5->streamlit) (1.5.4)\n",
            "Requirement already satisfied: jupyter-client<8.0 in /usr/local/lib/python3.7/dist-packages (from ipykernel>=5.1.2->pydeck>=0.1.dev5->streamlit) (5.3.5)\n",
            "Requirement already satisfied: decorator in /usr/local/lib/python3.7/dist-packages (from ipython>=7.23.1->ipykernel>=5.1.2->pydeck>=0.1.dev5->streamlit) (4.4.2)\n",
            "Requirement already satisfied: pygments in /usr/local/lib/python3.7/dist-packages (from ipython>=7.23.1->ipykernel>=5.1.2->pydeck>=0.1.dev5->streamlit) (2.6.1)\n",
            "Collecting prompt-toolkit!=3.0.0,!=3.0.1,<3.1.0,>=2.0.0\n",
            "  Downloading prompt_toolkit-3.0.28-py3-none-any.whl (380 kB)\n",
            "\u001b[K     |████████████████████████████████| 380 kB 53.3 MB/s \n",
            "\u001b[?25hRequirement already satisfied: pickleshare in /usr/local/lib/python3.7/dist-packages (from ipython>=7.23.1->ipykernel>=5.1.2->pydeck>=0.1.dev5->streamlit) (0.7.5)\n",
            "Requirement already satisfied: backcall in /usr/local/lib/python3.7/dist-packages (from ipython>=7.23.1->ipykernel>=5.1.2->pydeck>=0.1.dev5->streamlit) (0.2.0)\n",
            "Requirement already satisfied: jedi>=0.16 in /usr/local/lib/python3.7/dist-packages (from ipython>=7.23.1->ipykernel>=5.1.2->pydeck>=0.1.dev5->streamlit) (0.18.1)\n",
            "Requirement already satisfied: setuptools>=18.5 in /usr/local/lib/python3.7/dist-packages (from ipython>=7.23.1->ipykernel>=5.1.2->pydeck>=0.1.dev5->streamlit) (57.4.0)\n",
            "Requirement already satisfied: pexpect>4.3 in /usr/local/lib/python3.7/dist-packages (from ipython>=7.23.1->ipykernel>=5.1.2->pydeck>=0.1.dev5->streamlit) (4.8.0)\n",
            "Requirement already satisfied: jupyterlab-widgets>=1.0.0 in /usr/local/lib/python3.7/dist-packages (from ipywidgets>=7.0.0->pydeck>=0.1.dev5->streamlit) (1.0.2)\n",
            "Requirement already satisfied: widgetsnbextension~=3.5.0 in /usr/local/lib/python3.7/dist-packages (from ipywidgets>=7.0.0->pydeck>=0.1.dev5->streamlit) (3.5.2)\n",
            "Requirement already satisfied: nbformat>=4.2.0 in /usr/local/lib/python3.7/dist-packages (from ipywidgets>=7.0.0->pydeck>=0.1.dev5->streamlit) (5.1.3)\n",
            "Requirement already satisfied: ipython-genutils~=0.2.0 in /usr/local/lib/python3.7/dist-packages (from ipywidgets>=7.0.0->pydeck>=0.1.dev5->streamlit) (0.2.0)\n",
            "Requirement already satisfied: parso<0.9.0,>=0.8.0 in /usr/local/lib/python3.7/dist-packages (from jedi>=0.16->ipython>=7.23.1->ipykernel>=5.1.2->pydeck>=0.1.dev5->streamlit) (0.8.3)\n",
            "Requirement already satisfied: MarkupSafe>=0.23 in /usr/local/lib/python3.7/dist-packages (from jinja2->altair>=3.2.0->streamlit) (2.0.1)\n",
            "Requirement already satisfied: jupyter-core>=4.6.0 in /usr/local/lib/python3.7/dist-packages (from jupyter-client<8.0->ipykernel>=5.1.2->pydeck>=0.1.dev5->streamlit) (4.9.2)\n",
            "Requirement already satisfied: pyzmq>=13 in /usr/local/lib/python3.7/dist-packages (from jupyter-client<8.0->ipykernel>=5.1.2->pydeck>=0.1.dev5->streamlit) (22.3.0)\n",
            "Requirement already satisfied: ptyprocess>=0.5 in /usr/local/lib/python3.7/dist-packages (from pexpect>4.3->ipython>=7.23.1->ipykernel>=5.1.2->pydeck>=0.1.dev5->streamlit) (0.7.0)\n",
            "Requirement already satisfied: wcwidth in /usr/local/lib/python3.7/dist-packages (from prompt-toolkit!=3.0.0,!=3.0.1,<3.1.0,>=2.0.0->ipython>=7.23.1->ipykernel>=5.1.2->pydeck>=0.1.dev5->streamlit) (0.2.5)\n",
            "Requirement already satisfied: notebook>=4.4.1 in /usr/local/lib/python3.7/dist-packages (from widgetsnbextension~=3.5.0->ipywidgets>=7.0.0->pydeck>=0.1.dev5->streamlit) (5.3.1)\n",
            "Requirement already satisfied: nbconvert in /usr/local/lib/python3.7/dist-packages (from notebook>=4.4.1->widgetsnbextension~=3.5.0->ipywidgets>=7.0.0->pydeck>=0.1.dev5->streamlit) (5.6.1)\n",
            "Requirement already satisfied: terminado>=0.8.1 in /usr/local/lib/python3.7/dist-packages (from notebook>=4.4.1->widgetsnbextension~=3.5.0->ipywidgets>=7.0.0->pydeck>=0.1.dev5->streamlit) (0.13.1)\n",
            "Requirement already satisfied: Send2Trash in /usr/local/lib/python3.7/dist-packages (from notebook>=4.4.1->widgetsnbextension~=3.5.0->ipywidgets>=7.0.0->pydeck>=0.1.dev5->streamlit) (1.8.0)\n",
            "Requirement already satisfied: pandocfilters>=1.4.1 in /usr/local/lib/python3.7/dist-packages (from nbconvert->notebook>=4.4.1->widgetsnbextension~=3.5.0->ipywidgets>=7.0.0->pydeck>=0.1.dev5->streamlit) (1.5.0)\n",
            "Requirement already satisfied: mistune<2,>=0.8.1 in /usr/local/lib/python3.7/dist-packages (from nbconvert->notebook>=4.4.1->widgetsnbextension~=3.5.0->ipywidgets>=7.0.0->pydeck>=0.1.dev5->streamlit) (0.8.4)\n",
            "Requirement already satisfied: testpath in /usr/local/lib/python3.7/dist-packages (from nbconvert->notebook>=4.4.1->widgetsnbextension~=3.5.0->ipywidgets>=7.0.0->pydeck>=0.1.dev5->streamlit) (0.5.0)\n",
            "Requirement already satisfied: defusedxml in /usr/local/lib/python3.7/dist-packages (from nbconvert->notebook>=4.4.1->widgetsnbextension~=3.5.0->ipywidgets>=7.0.0->pydeck>=0.1.dev5->streamlit) (0.7.1)\n",
            "Requirement already satisfied: bleach in /usr/local/lib/python3.7/dist-packages (from nbconvert->notebook>=4.4.1->widgetsnbextension~=3.5.0->ipywidgets>=7.0.0->pydeck>=0.1.dev5->streamlit) (4.1.0)\n",
            "Requirement already satisfied: webencodings in /usr/local/lib/python3.7/dist-packages (from bleach->nbconvert->notebook>=4.4.1->widgetsnbextension~=3.5.0->ipywidgets>=7.0.0->pydeck>=0.1.dev5->streamlit) (0.5.1)\n",
            "Requirement already satisfied: pyparsing!=3.0.5,>=2.0.2 in /usr/local/lib/python3.7/dist-packages (from packaging->streamlit) (3.0.7)\n",
            "Requirement already satisfied: idna<3,>=2.5 in /usr/local/lib/python3.7/dist-packages (from requests->streamlit) (2.10)\n",
            "Requirement already satisfied: certifi>=2017.4.17 in /usr/local/lib/python3.7/dist-packages (from requests->streamlit) (2021.10.8)\n",
            "Requirement already satisfied: chardet<4,>=3.0.2 in /usr/local/lib/python3.7/dist-packages (from requests->streamlit) (3.0.4)\n",
            "Requirement already satisfied: urllib3!=1.25.0,!=1.25.1,<1.26,>=1.21.1 in /usr/local/lib/python3.7/dist-packages (from requests->streamlit) (1.24.3)\n",
            "Building wheels for collected packages: blinker\n",
            "  Building wheel for blinker (setup.py) ... \u001b[?25l\u001b[?25hdone\n",
            "  Created wheel for blinker: filename=blinker-1.4-py3-none-any.whl size=13478 sha256=8c81b13b6b78771a135ca1940b059a57ccfec38cb9af68aa5ea1810efb450ffa\n",
            "  Stored in directory: /root/.cache/pip/wheels/22/f5/18/df711b66eb25b21325c132757d4314db9ac5e8dabeaf196eab\n",
            "Successfully built blinker\n",
            "Installing collected packages: prompt-toolkit, ipython, ipykernel, smmap, gitdb, watchdog, validators, toml, pympler, pydeck, gitpython, blinker, base58, streamlit\n",
            "  Attempting uninstall: prompt-toolkit\n",
            "    Found existing installation: prompt-toolkit 1.0.18\n",
            "    Uninstalling prompt-toolkit-1.0.18:\n",
            "      Successfully uninstalled prompt-toolkit-1.0.18\n",
            "  Attempting uninstall: ipython\n",
            "    Found existing installation: ipython 5.5.0\n",
            "    Uninstalling ipython-5.5.0:\n",
            "      Successfully uninstalled ipython-5.5.0\n",
            "  Attempting uninstall: ipykernel\n",
            "    Found existing installation: ipykernel 4.10.1\n",
            "    Uninstalling ipykernel-4.10.1:\n",
            "      Successfully uninstalled ipykernel-4.10.1\n",
            "\u001b[31mERROR: pip's dependency resolver does not currently take into account all the packages that are installed. This behaviour is the source of the following dependency conflicts.\n",
            "jupyter-console 5.2.0 requires prompt-toolkit<2.0.0,>=1.0.0, but you have prompt-toolkit 3.0.28 which is incompatible.\n",
            "google-colab 1.0.0 requires ipykernel~=4.10, but you have ipykernel 6.9.1 which is incompatible.\n",
            "google-colab 1.0.0 requires ipython~=5.5.0, but you have ipython 7.32.0 which is incompatible.\u001b[0m\n",
            "Successfully installed base58-2.1.1 blinker-1.4 gitdb-4.0.9 gitpython-3.1.27 ipykernel-6.9.1 ipython-7.32.0 prompt-toolkit-3.0.28 pydeck-0.7.1 pympler-1.0.1 smmap-5.0.0 streamlit-1.6.0 toml-0.10.2 validators-0.18.2 watchdog-2.1.6\n"
          ]
        },
        {
          "output_type": "display_data",
          "data": {
            "application/vnd.colab-display-data+json": {
              "pip_warning": {
                "packages": [
                  "IPython",
                  "ipykernel",
                  "prompt_toolkit"
                ]
              }
            }
          },
          "metadata": {}
        }
      ]
    },
    {
      "cell_type": "code",
      "metadata": {
        "cellView": "form",
        "id": "S5DE1fFqcSH-"
      },
      "source": [
        "#@title Clique aqui para ver a resposta.\n",
        "\n",
        "!pip install numpy\n",
        "!pip install pillow\n",
        "!pip install tensorflow\n",
        "!pip install keras\n",
        "!pip install streamlit"
      ],
      "execution_count": null,
      "outputs": []
    },
    {
      "cell_type": "markdown",
      "metadata": {
        "id": "znegMbA2dTcu"
      },
      "source": [
        "## **04.CRIAR UM ARQUIVO PARA CLASSIFICAR IMAGENS.**"
      ]
    },
    {
      "cell_type": "markdown",
      "metadata": {
        "id": "nSSLJmcAq-oU"
      },
      "source": [
        "### **04.a.Descrição.**"
      ]
    },
    {
      "cell_type": "markdown",
      "metadata": {
        "id": "7aXRwZczcfZ2"
      },
      "source": [
        "- **01.Use o comando `%%writefile` para criar o arquivo chamado `arquivo_classificador_de_imagem.py`.**\n",
        "\n",
        "- **02.Preparar a classificação de imagem.**\n",
        " - **02.a.Importar as bibliotecas necessárias.**\n",
        "    - Importe as seguintes bibliotecas:\n",
        "    ```\n",
        "    import tensorflow.keras\n",
        "    from PIL import Image, ImageOps\n",
        "    import numpy as np\n",
        "    ```\n",
        "  - **02.b.Crie a função `funcao_classificar_imagem()` que tenha os parâmentros `img`, `keras_model` e que tenha como retorno `return np.argmax(prediction)`.**\n",
        "\n",
        "    - Copie e cole o código gerado pelo ***Teachable Machine***.\n",
        "    - Adequar na função:\n",
        "     - Identação do código adicionado dentro da função.\n",
        "     - Endereço da imagem a ser classificada.\n",
        "\n",
        "- **03.Adicionar o modelo de classificação (`keras_model.h5`) na área de arquivos.**"
      ]
    },
    {
      "cell_type": "code",
      "metadata": {
        "id": "vPI5c2kigqBW",
        "colab": {
          "base_uri": "https://localhost:8080/"
        },
        "outputId": "8f8d3b1e-7d65-411d-b21c-2ec3b0e4bdbd"
      },
      "source": [
        "# CRIAR ARQUIVO DE CLASSIFICAÇÃO.\n",
        "%%writefile arquivo_classificador_de_imagem.py\n",
        "\n",
        "import tensorflow\n",
        "from keras.models import load_model\n",
        "from PIL import Image, ImageOps\n",
        "import numpy as np\n",
        "\n",
        "def funcao_classificar_imagem(img, keras_model):\n",
        "\n",
        "\n",
        "  # Load the model\n",
        "  model = load_model('keras_model.h5')\n",
        "\n",
        "  # Create the array of the right shape to feed into the keras model\n",
        "  # The 'length' or number of images you can put into the array is\n",
        "  # determined by the first position in the shape tuple, in this case 1.\n",
        "  data = np.ndarray(shape=(1, 224, 224, 3), dtype=np.float32)\n",
        "  # Replace this with the path to your image\n",
        "  image = img\n",
        "  #resize the image to a 224x224 with the same strategy as in TM2:\n",
        "  #resizing the image to be at least 224x224 and then cropping from the center\n",
        "  size = (224, 224)\n",
        "  image = ImageOps.fit(image, size, Image.ANTIALIAS)\n",
        "\n",
        "  #turn the image into a numpy array\n",
        "  image_array = np.asarray(image)\n",
        "  # Normalize the image\n",
        "  normalized_image_array = (image_array.astype(np.float32) / 127.0) - 1\n",
        "  # Load the image into the array\n",
        "  data[0] = normalized_image_array\n",
        "\n",
        "  # run the inference\n",
        "  prediction = model.predict(data)\n",
        "  print(prediction)\n",
        "\n",
        "  return np.argmax(prediction)\n"
      ],
      "execution_count": 1,
      "outputs": [
        {
          "output_type": "stream",
          "name": "stdout",
          "text": [
            "Overwriting arquivo_classificador_de_imagem.py\n"
          ]
        }
      ]
    },
    {
      "cell_type": "code",
      "metadata": {
        "cellView": "form",
        "id": "fQyJv3tchCSE"
      },
      "source": [
        "#@title Clique aqui para ver a resposta.\n",
        "\n",
        "# 01.Criar o arquivo.\n",
        "%%writefile arquivo_classificador_de_imagem.py\n",
        "\n",
        "import tensorflow.keras\n",
        "from PIL import Image, ImageOps\n",
        "import numpy as np\n",
        "\n",
        "def funcao_classificar_imagem(img, keras_model):\n",
        "\n",
        "  # Disable scientific notation for clarity\n",
        "  np.set_printoptions(suppress=True)\n",
        "\n",
        "  # Load the model\n",
        "  model = tensorflow.keras.models.load_model('keras_model.h5')\n",
        "\n",
        "  # Create the array of the right shape to feed into the keras model\n",
        "  # The 'length' or number of images you can put into the array is\n",
        "  # determined by the first position in the shape tuple, in this case 1.\n",
        "  data = np.ndarray(shape=(1, 224, 224, 3), dtype=np.float32)\n",
        "\n",
        "  # Replace this with the path to your image\n",
        "  image = img\n",
        "\n",
        "  #resize the image to a 224x224 with the same strategy as in TM2:\n",
        "  #resizing the image to be at least 224x224 and then cropping from the center\n",
        "  size = (224, 224)\n",
        "  image = ImageOps.fit(image, size, Image.ANTIALIAS)\n",
        "\n",
        "  #turn the image into a numpy array\n",
        "  image_array = np.asarray(image)\n",
        "\n",
        "  # display the resized image\n",
        "  image.show()\n",
        "\n",
        "  # Normalize the image\n",
        "  normalized_image_array = (image_array.astype(np.float32) / 127.0) - 1\n",
        "\n",
        "  # Load the image into the array\n",
        "  data[0] = normalized_image_array\n",
        "\n",
        "  # run the inference\n",
        "  prediction = model.predict(data)\n",
        "  print(prediction)\n",
        "\n",
        "  return np.argmax(prediction)"
      ],
      "execution_count": null,
      "outputs": []
    },
    {
      "cell_type": "markdown",
      "metadata": {
        "id": "c0_zPnyydbnJ"
      },
      "source": [
        "## **05.CRIAR O APLICATIVO COM *STREAMLIT*.**"
      ]
    },
    {
      "cell_type": "markdown",
      "metadata": {
        "id": "h9SBGp1rh_k_"
      },
      "source": [
        "### **05.a.Descrição.**"
      ]
    },
    {
      "cell_type": "markdown",
      "metadata": {
        "id": "UcOJWYn-QVG5"
      },
      "source": [
        "- **01.Use o comando `%%writefile` para criar o arquivo chamado `arquivo_aplicativo_de_classificacao.py`:**\n",
        "\n",
        "- **02.Importar a função `funcao_classificar_imagem` e as bibliotecas necessárias:**\n",
        "\n",
        " - **02.a.Função `funcao_classificar_imagem()` e bibliotecas necessárias.**\n",
        "```\n",
        "from arquivo_classificador_imagem import funcao_classificar_imagem\n",
        "import streamlit as st\n",
        "from PIL import Image\n",
        "```\n",
        "\n",
        "- **03.Criar os elementos que compõem o aplicativo:**\n",
        " - **03.a.Lembre-se de trocar o nome das suas classes a serem preditas.**\n",
        "\n",
        "```\n",
        "# TÍTULO DO SITE.\n",
        "st.title(\"Classificador de milho.\")\n",
        "\n",
        "# BOTÃO PARA FAZER UPLOAD DA IMAGEM A SER CLASSIFICADA.\n",
        "uploaded_file = st.file_uploader(\"Escolha um arquivo\", type=\"jpg\")\n",
        "\n",
        "# CLASSIFICAÇÃO DA IMAGEM.\n",
        "if uploaded_file is not None:\n",
        "\n",
        "    # ABRIR A IMAGEM CARREGADA.\n",
        "    image = Image.open(uploaded_file)\n",
        "\n",
        "    # MOSTRAR A IMAGEM.\n",
        "    st.image(image, caption='', use_column_width=True)\n",
        "\n",
        "    # TEXTO INDICANDO QUE A IMAGEM ESTÁ SENDO CLASSIFICADA.\n",
        "    st.write(\"Classificando...\")\n",
        "    \n",
        "    # CHAMAR A FUNÇÃO DE CLASSIFICAÇÃO DE IMAGEM\n",
        "    # E ARMAZENAR O RESULTADO NA VARIÁVEL LABEL.\n",
        "    label = funcao_classificar_imagem(image, 'keras_model.h5')\n",
        "    \n",
        "    # CONDICIONAL PARA IDENTIFICAR A CLASSE DA IMAGEM.\n",
        "    if label == 0:\n",
        "\n",
        "        # INSIRA O NOME DA PRIMEIRA CLASSE.\n",
        "        st.write(\"Milho bom.\")\n",
        "\n",
        "    else:\n",
        "\n",
        "       # INSIRA O NOME DA SEGUNDA CLASSE.\n",
        "        st.write(\"Milho ruim.\")\n",
        "```\n"
      ]
    },
    {
      "cell_type": "code",
      "metadata": {
        "id": "keJnyG-hiAmW",
        "colab": {
          "base_uri": "https://localhost:8080/"
        },
        "outputId": "b5a3cc95-ec53-4866-9fbd-6a815821a258"
      },
      "source": [
        "# CRIAR ARQUIVO DO APLICATIVO.\n",
        "%%writefile arquivo_aplicativo_de_classificacao.py\n",
        "\n",
        "from arquivo_classificador_de_imagem import funcao_classificar_imagem\n",
        "import streamlit as st\n",
        "from PIL import Image\n",
        "\n",
        "# TÍTULO DO SITE.\n",
        "st.title(\"Classificador de velas de ignição.\")\n",
        "\n",
        "# BOTÃO PARA FAZER UPLOAD DA IMAGEM A SER CLASSIFICADA.\n",
        "uploaded_file = st.file_uploader(\"Escolha um arquivo\", type=\"jpg\")\n",
        "\n",
        "# CLASSIFICAÇÃO DA IMAGEM.\n",
        "if uploaded_file is not None:\n",
        "\n",
        "    # ABRIR A IMAGEM CARREGADA.\n",
        "    image = Image.open(uploaded_file)\n",
        "\n",
        "    # MOSTRAR A IMAGEM.\n",
        "    st.image(image, caption='', use_column_width=True)\n",
        "\n",
        "    # TEXTO INDICANDO QUE A IMAGEM ESTÁ SENDO CLASSIFICADA.\n",
        "    st.write(\"Classificando...\")\n",
        "\n",
        "    # CHAMAR A FUNÇÃO DE CLASSIFICAÇÃO DE IMAGEM\n",
        "    # E ARMAZENAR O RESULTADO NA VARIÁVEL LABEL.\n",
        "    label = funcao_classificar_imagem(image, 'keras_model.h5')\n",
        "\n",
        "    # CONDICIONAL PARA IDENTIFICAR A CLASSE DA IMAGEM.\n",
        "    if label == 0:\n",
        "\n",
        "        # INSIRA O NOME DA PRIMEIRA CLASSE.\n",
        "        st.write(\"Reutilizar.\")\n",
        "\n",
        "    else:\n",
        "\n",
        "       # INSIRA O NOME DA SEGUNDA CLASSE.\n",
        "        st.write(\"Reciclar.\")\n",
        "\n",
        "\n"
      ],
      "execution_count": 2,
      "outputs": [
        {
          "output_type": "stream",
          "name": "stdout",
          "text": [
            "Overwriting arquivo_aplicativo_de_classificacao.py\n"
          ]
        }
      ]
    },
    {
      "cell_type": "code",
      "metadata": {
        "cellView": "form",
        "id": "hVYDHy9qiDZf"
      },
      "source": [
        "#@title Clique aqui para ver a resposta.\n",
        "\n",
        "# 01.Criar o arquivo chamado arquivo_aplicativo_de_classificacao.py.\n",
        "%%writefile arquivo_aplicativo_de_classificacao.py\n",
        "\n",
        "# 02.Importar a função funcao_classificar_imagem e as bibliotecas necessárias.\n",
        "from arquivo_classificador_de_imagem import funcao_classificar_imagem\n",
        "import streamlit as st\n",
        "from PIL import Image\n",
        "\n",
        "# 03.Criar os elementos que compõe o aplicativo.\n",
        "# TÍTULO DO SITE.\n",
        "st.title(\"Classificador de milho.\")\n",
        " \n",
        "# BOTÃO PARA FAZER UPLOAD DA IMAGEM A SER CLASSIFICADA.\n",
        "uploaded_file = st.file_uploader(\"Escolha um arquivo\", type=\"jpg\")\n",
        " \n",
        "# CLASSIFICAÇÃO DA IMAGEM.\n",
        "if uploaded_file is not None:\n",
        " \n",
        "    # ABRIR A IMAGEM CARREGADA.\n",
        "    image = Image.open(uploaded_file)\n",
        " \n",
        "    # MOSTRAR A IMAGEM.\n",
        "    st.image(image, caption='', use_column_width=True)\n",
        " \n",
        "    # TEXTO INDICANDO QUE A IMAGEM ESTÁ SENDO CLASSIFICADA.\n",
        "    st.write(\"Classificando...\")\n",
        " \n",
        "    # CHAMAR A FUNÇÃO DE CLASSIFICAÇÃO DE IMAGEM\n",
        "    # E ARMAZENAR O RESULTADO NA VARIÁVEL LABEL.\n",
        "    label = funcao_classificar_imagem(image, 'keras_model.h5')\n",
        " \n",
        "    # CONDICIONAL PARA IDENTIFICAR A CLASSE DA IMAGEM.\n",
        "    if label == 0:\n",
        " \n",
        "        # INSIRA O NOME DA PRIMEIRA CLASSE.\n",
        "        st.write(\"Milho bom.\")\n",
        " \n",
        "    else:\n",
        " \n",
        "       # INSIRA O NOME DA SEGUNDA CLASSE.\n",
        "        st.write(\"Milho ruim.\")"
      ],
      "execution_count": null,
      "outputs": []
    },
    {
      "cell_type": "markdown",
      "metadata": {
        "id": "9JtIht6QderU"
      },
      "source": [
        "## **06.VISUALIZAR O APLICATIVO.**"
      ]
    },
    {
      "cell_type": "markdown",
      "metadata": {
        "id": "WJ8pE1LCiPyp"
      },
      "source": [
        "### **06.a.Descrição.**"
      ]
    },
    {
      "cell_type": "markdown",
      "metadata": {
        "id": "zmY4msDyTfE4"
      },
      "source": [
        "- Para visualizar o aplicativo precisamos:\n",
        "\n",
        " - **01.Executar (rodar) o aplicativo.**\n",
        " ```\n",
        " !streamlit run arquivo_aplicativo_de_classificacao.py &>/dev/null&\n",
        " ````\n",
        " - **02.Gerar o link do aplicativo.**\n",
        " ````\n",
        " !npx localtunnel --port 8501\n",
        " `````\n",
        "\n",
        "**Observação:** após gerar o link do aplicativo, será criado uma nova aba no navegador, entre nesta nova aba e clique no botão *Click to continue* (clique para continuar). Logo em seguida irá aparecer o aplicativo criado."
      ]
    },
    {
      "cell_type": "code",
      "metadata": {
        "id": "hCgv-sKWihaP",
        "colab": {
          "base_uri": "https://localhost:8080/"
        },
        "outputId": "19fe5407-e5f8-428e-da8b-d5c9711b64ee"
      },
      "source": [
        "# EXECUTAR/RODAR O APLICATIVO.\n",
        "!streamlit run arquivo_aplicativo_de_classificacao.py &>/dev/null&\n",
        "\n",
        "# GERAR O LINK DO APLICATIVO.\n",
        "!npx localtunnel --port 8501\n"
      ],
      "execution_count": 3,
      "outputs": [
        {
          "output_type": "stream",
          "name": "stdout",
          "text": [
            "\u001b[K\u001b[?25hnpx: installed 22 in 2.791s\n",
            "your url is: https://kind-husky-89.loca.lt\n",
            "^C\n"
          ]
        }
      ]
    },
    {
      "cell_type": "code",
      "metadata": {
        "cellView": "form",
        "id": "lErSrS7nioBs"
      },
      "source": [
        "#@title Clique aqui para ver a resposta.\n",
        " # 01.Executar (rodar) o aplicativo.\n",
        "!streamlit run arquivo_aplicativo_de_classificacao.py &>/dev/null&\n",
        "  \n",
        " # 02.Gerar o link do aplicativo.\n",
        "!npx localtunnel --port 8501"
      ],
      "execution_count": null,
      "outputs": []
    }
  ]
}