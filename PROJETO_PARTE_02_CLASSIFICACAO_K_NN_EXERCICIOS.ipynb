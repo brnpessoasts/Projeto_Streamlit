{
  "nbformat": 4,
  "nbformat_minor": 0,
  "metadata": {
    "colab": {
      "name": "PROJETO_PARTE_02_CLASSIFICACAO_K-NN_EXERCICIOS.ipynb",
      "provenance": [],
      "collapsed_sections": [
        "Ucffb9PEI4Dh",
        "oy6bXzbiJPC9",
        "K7jP3xCgKQuT",
        "IGWtPwjpKcr_",
        "EcvTSoqgLDgK",
        "i6rq_CLVQ17u"
      ],
      "include_colab_link": true
    },
    "kernelspec": {
      "display_name": "Python 3",
      "name": "python3"
    },
    "language_info": {
      "name": "python"
    }
  },
  "cells": [
    {
      "cell_type": "markdown",
      "metadata": {
        "id": "view-in-github",
        "colab_type": "text"
      },
      "source": [
        "<a href=\"https://colab.research.google.com/github/brnpessoasts/Projeto_Streamlit/blob/main/PROJETO_PARTE_02_CLASSIFICACAO_K_NN_EXERCICIOS.ipynb\" target=\"_parent\"><img src=\"https://colab.research.google.com/assets/colab-badge.svg\" alt=\"Open In Colab\"/></a>"
      ]
    },
    {
      "cell_type": "markdown",
      "metadata": {
        "id": "Ucffb9PEI4Dh"
      },
      "source": [
        "<center><img src=\"https://raw.githubusercontent.com/rafael-arevalo/orbeai/master/Logo-Orbe-sem-fundo.png\" height=\"300px\"></center>\n",
        "\n",
        "\n",
        "# **PROJETO (parte 02): modelo de *Machine Learning* para tarefa de classificação.**"
      ]
    },
    {
      "cell_type": "markdown",
      "metadata": {
        "id": "W5CpivI3LL-k"
      },
      "source": [
        "<center><img src=\"https://raw.githubusercontent.com/rafael-arevalo/orbeai/master/M06_CRISP-DM_07_IMPLEMENTACAO.png\" height=\"300px\"></center>\n",
        "\n",
        "- Depois de passar por todas as etapas do **Roteiro de um projeto de ciência de dados (*CRISP-DM*)** vamos agora para a última etapa que é justamente implentar o modelo. Para isso usaremos o **`Streamlit`**."
      ]
    },
    {
      "cell_type": "markdown",
      "metadata": {
        "id": "oy6bXzbiJPC9"
      },
      "source": [
        "## **06.IMPLEMENTAÇÃO (*deploy*).**"
      ]
    },
    {
      "cell_type": "markdown",
      "metadata": {
        "id": "K7jP3xCgKQuT"
      },
      "source": [
        "### **06.a.Instalar o Streamlit.**"
      ]
    },
    {
      "cell_type": "markdown",
      "metadata": {
        "id": "ByPBIS_SKXo4"
      },
      "source": [
        "- Para instalar o **`Streamlit`**:\n",
        "\n",
        "````\n",
        "!pip install streamlit\n",
        "````"
      ]
    },
    {
      "cell_type": "code",
      "metadata": {
        "id": "WRswI2rvjoP7",
        "colab": {
          "base_uri": "https://localhost:8080/"
        },
        "outputId": "00e1426b-7cad-42a9-fcb3-337abc0d0ef5"
      },
      "source": [
        "# INSTALAR STREAMLIT\n",
        "!pip install streamlit"
      ],
      "execution_count": null,
      "outputs": [
        {
          "output_type": "stream",
          "name": "stdout",
          "text": [
            "Requirement already satisfied: streamlit in /usr/local/lib/python3.7/dist-packages (1.7.0)\n",
            "Requirement already satisfied: tornado>=5.0 in /usr/local/lib/python3.7/dist-packages (from streamlit) (5.1.1)\n",
            "Requirement already satisfied: python-dateutil in /usr/local/lib/python3.7/dist-packages (from streamlit) (2.8.2)\n",
            "Requirement already satisfied: click>=7.0 in /usr/local/lib/python3.7/dist-packages (from streamlit) (7.1.2)\n",
            "Requirement already satisfied: pydeck>=0.1.dev5 in /usr/local/lib/python3.7/dist-packages (from streamlit) (0.7.1)\n",
            "Requirement already satisfied: requests in /usr/local/lib/python3.7/dist-packages (from streamlit) (2.23.0)\n",
            "Requirement already satisfied: numpy in /usr/local/lib/python3.7/dist-packages (from streamlit) (1.21.5)\n",
            "Requirement already satisfied: gitpython!=3.1.19 in /usr/local/lib/python3.7/dist-packages (from streamlit) (3.1.27)\n",
            "Requirement already satisfied: watchdog in /usr/local/lib/python3.7/dist-packages (from streamlit) (2.1.6)\n",
            "Requirement already satisfied: protobuf!=3.11,>=3.6.0 in /usr/local/lib/python3.7/dist-packages (from streamlit) (3.17.3)\n",
            "Requirement already satisfied: validators in /usr/local/lib/python3.7/dist-packages (from streamlit) (0.18.2)\n",
            "Requirement already satisfied: pyarrow in /usr/local/lib/python3.7/dist-packages (from streamlit) (6.0.1)\n",
            "Requirement already satisfied: pillow>=6.2.0 in /usr/local/lib/python3.7/dist-packages (from streamlit) (7.1.2)\n",
            "Requirement already satisfied: cachetools>=4.0 in /usr/local/lib/python3.7/dist-packages (from streamlit) (4.2.4)\n",
            "Requirement already satisfied: pympler>=0.9 in /usr/local/lib/python3.7/dist-packages (from streamlit) (1.0.1)\n",
            "Requirement already satisfied: tzlocal in /usr/local/lib/python3.7/dist-packages (from streamlit) (1.5.1)\n",
            "Requirement already satisfied: base58 in /usr/local/lib/python3.7/dist-packages (from streamlit) (2.1.1)\n",
            "Requirement already satisfied: astor in /usr/local/lib/python3.7/dist-packages (from streamlit) (0.8.1)\n",
            "Requirement already satisfied: toml in /usr/local/lib/python3.7/dist-packages (from streamlit) (0.10.2)\n",
            "Requirement already satisfied: blinker in /usr/local/lib/python3.7/dist-packages (from streamlit) (1.4)\n",
            "Requirement already satisfied: attrs in /usr/local/lib/python3.7/dist-packages (from streamlit) (21.4.0)\n",
            "Requirement already satisfied: altair>=3.2.0 in /usr/local/lib/python3.7/dist-packages (from streamlit) (4.2.0)\n",
            "Requirement already satisfied: semver in /usr/local/lib/python3.7/dist-packages (from streamlit) (2.13.0)\n",
            "Requirement already satisfied: importlib-metadata>=1.4 in /usr/local/lib/python3.7/dist-packages (from streamlit) (4.11.2)\n",
            "Requirement already satisfied: pandas>=0.21.0 in /usr/local/lib/python3.7/dist-packages (from streamlit) (1.3.5)\n",
            "Requirement already satisfied: packaging in /usr/local/lib/python3.7/dist-packages (from streamlit) (21.3)\n",
            "Requirement already satisfied: typing-extensions in /usr/local/lib/python3.7/dist-packages (from streamlit) (3.10.0.2)\n",
            "Requirement already satisfied: jinja2 in /usr/local/lib/python3.7/dist-packages (from altair>=3.2.0->streamlit) (2.11.3)\n",
            "Requirement already satisfied: jsonschema>=3.0 in /usr/local/lib/python3.7/dist-packages (from altair>=3.2.0->streamlit) (4.3.3)\n",
            "Requirement already satisfied: toolz in /usr/local/lib/python3.7/dist-packages (from altair>=3.2.0->streamlit) (0.11.2)\n",
            "Requirement already satisfied: entrypoints in /usr/local/lib/python3.7/dist-packages (from altair>=3.2.0->streamlit) (0.4)\n",
            "Requirement already satisfied: gitdb<5,>=4.0.1 in /usr/local/lib/python3.7/dist-packages (from gitpython!=3.1.19->streamlit) (4.0.9)\n",
            "Requirement already satisfied: smmap<6,>=3.0.1 in /usr/local/lib/python3.7/dist-packages (from gitdb<5,>=4.0.1->gitpython!=3.1.19->streamlit) (5.0.0)\n",
            "Requirement already satisfied: zipp>=0.5 in /usr/local/lib/python3.7/dist-packages (from importlib-metadata>=1.4->streamlit) (3.7.0)\n",
            "Requirement already satisfied: importlib-resources>=1.4.0 in /usr/local/lib/python3.7/dist-packages (from jsonschema>=3.0->altair>=3.2.0->streamlit) (5.4.0)\n",
            "Requirement already satisfied: pyrsistent!=0.17.0,!=0.17.1,!=0.17.2,>=0.14.0 in /usr/local/lib/python3.7/dist-packages (from jsonschema>=3.0->altair>=3.2.0->streamlit) (0.18.1)\n",
            "Requirement already satisfied: pytz>=2017.3 in /usr/local/lib/python3.7/dist-packages (from pandas>=0.21.0->streamlit) (2018.9)\n",
            "Requirement already satisfied: six>=1.9 in /usr/local/lib/python3.7/dist-packages (from protobuf!=3.11,>=3.6.0->streamlit) (1.15.0)\n",
            "Requirement already satisfied: ipywidgets>=7.0.0 in /usr/local/lib/python3.7/dist-packages (from pydeck>=0.1.dev5->streamlit) (7.6.5)\n",
            "Requirement already satisfied: traitlets>=4.3.2 in /usr/local/lib/python3.7/dist-packages (from pydeck>=0.1.dev5->streamlit) (5.1.1)\n",
            "Requirement already satisfied: ipykernel>=5.1.2 in /usr/local/lib/python3.7/dist-packages (from pydeck>=0.1.dev5->streamlit) (6.9.1)\n",
            "Requirement already satisfied: debugpy<2.0,>=1.0.0 in /usr/local/lib/python3.7/dist-packages (from ipykernel>=5.1.2->pydeck>=0.1.dev5->streamlit) (1.0.0)\n",
            "Requirement already satisfied: nest-asyncio in /usr/local/lib/python3.7/dist-packages (from ipykernel>=5.1.2->pydeck>=0.1.dev5->streamlit) (1.5.4)\n",
            "Requirement already satisfied: ipython>=7.23.1 in /usr/local/lib/python3.7/dist-packages (from ipykernel>=5.1.2->pydeck>=0.1.dev5->streamlit) (7.32.0)\n",
            "Requirement already satisfied: jupyter-client<8.0 in /usr/local/lib/python3.7/dist-packages (from ipykernel>=5.1.2->pydeck>=0.1.dev5->streamlit) (5.3.5)\n",
            "Requirement already satisfied: matplotlib-inline<0.2.0,>=0.1.0 in /usr/local/lib/python3.7/dist-packages (from ipykernel>=5.1.2->pydeck>=0.1.dev5->streamlit) (0.1.3)\n",
            "Requirement already satisfied: jedi>=0.16 in /usr/local/lib/python3.7/dist-packages (from ipython>=7.23.1->ipykernel>=5.1.2->pydeck>=0.1.dev5->streamlit) (0.18.1)\n",
            "Requirement already satisfied: pickleshare in /usr/local/lib/python3.7/dist-packages (from ipython>=7.23.1->ipykernel>=5.1.2->pydeck>=0.1.dev5->streamlit) (0.7.5)\n",
            "Requirement already satisfied: setuptools>=18.5 in /usr/local/lib/python3.7/dist-packages (from ipython>=7.23.1->ipykernel>=5.1.2->pydeck>=0.1.dev5->streamlit) (57.4.0)\n",
            "Requirement already satisfied: decorator in /usr/local/lib/python3.7/dist-packages (from ipython>=7.23.1->ipykernel>=5.1.2->pydeck>=0.1.dev5->streamlit) (4.4.2)\n",
            "Requirement already satisfied: backcall in /usr/local/lib/python3.7/dist-packages (from ipython>=7.23.1->ipykernel>=5.1.2->pydeck>=0.1.dev5->streamlit) (0.2.0)\n",
            "Requirement already satisfied: pygments in /usr/local/lib/python3.7/dist-packages (from ipython>=7.23.1->ipykernel>=5.1.2->pydeck>=0.1.dev5->streamlit) (2.6.1)\n",
            "Requirement already satisfied: prompt-toolkit!=3.0.0,!=3.0.1,<3.1.0,>=2.0.0 in /usr/local/lib/python3.7/dist-packages (from ipython>=7.23.1->ipykernel>=5.1.2->pydeck>=0.1.dev5->streamlit) (3.0.28)\n",
            "Requirement already satisfied: pexpect>4.3 in /usr/local/lib/python3.7/dist-packages (from ipython>=7.23.1->ipykernel>=5.1.2->pydeck>=0.1.dev5->streamlit) (4.8.0)\n",
            "Requirement already satisfied: nbformat>=4.2.0 in /usr/local/lib/python3.7/dist-packages (from ipywidgets>=7.0.0->pydeck>=0.1.dev5->streamlit) (5.1.3)\n",
            "Requirement already satisfied: ipython-genutils~=0.2.0 in /usr/local/lib/python3.7/dist-packages (from ipywidgets>=7.0.0->pydeck>=0.1.dev5->streamlit) (0.2.0)\n",
            "Requirement already satisfied: widgetsnbextension~=3.5.0 in /usr/local/lib/python3.7/dist-packages (from ipywidgets>=7.0.0->pydeck>=0.1.dev5->streamlit) (3.5.2)\n",
            "Requirement already satisfied: jupyterlab-widgets>=1.0.0 in /usr/local/lib/python3.7/dist-packages (from ipywidgets>=7.0.0->pydeck>=0.1.dev5->streamlit) (1.0.2)\n",
            "Requirement already satisfied: parso<0.9.0,>=0.8.0 in /usr/local/lib/python3.7/dist-packages (from jedi>=0.16->ipython>=7.23.1->ipykernel>=5.1.2->pydeck>=0.1.dev5->streamlit) (0.8.3)\n",
            "Requirement already satisfied: MarkupSafe>=0.23 in /usr/local/lib/python3.7/dist-packages (from jinja2->altair>=3.2.0->streamlit) (2.0.1)\n",
            "Requirement already satisfied: pyzmq>=13 in /usr/local/lib/python3.7/dist-packages (from jupyter-client<8.0->ipykernel>=5.1.2->pydeck>=0.1.dev5->streamlit) (22.3.0)\n",
            "Requirement already satisfied: jupyter-core>=4.6.0 in /usr/local/lib/python3.7/dist-packages (from jupyter-client<8.0->ipykernel>=5.1.2->pydeck>=0.1.dev5->streamlit) (4.9.2)\n",
            "Requirement already satisfied: ptyprocess>=0.5 in /usr/local/lib/python3.7/dist-packages (from pexpect>4.3->ipython>=7.23.1->ipykernel>=5.1.2->pydeck>=0.1.dev5->streamlit) (0.7.0)\n",
            "Requirement already satisfied: wcwidth in /usr/local/lib/python3.7/dist-packages (from prompt-toolkit!=3.0.0,!=3.0.1,<3.1.0,>=2.0.0->ipython>=7.23.1->ipykernel>=5.1.2->pydeck>=0.1.dev5->streamlit) (0.2.5)\n",
            "Requirement already satisfied: notebook>=4.4.1 in /usr/local/lib/python3.7/dist-packages (from widgetsnbextension~=3.5.0->ipywidgets>=7.0.0->pydeck>=0.1.dev5->streamlit) (5.3.1)\n",
            "Requirement already satisfied: terminado>=0.8.1 in /usr/local/lib/python3.7/dist-packages (from notebook>=4.4.1->widgetsnbextension~=3.5.0->ipywidgets>=7.0.0->pydeck>=0.1.dev5->streamlit) (0.13.1)\n",
            "Requirement already satisfied: nbconvert in /usr/local/lib/python3.7/dist-packages (from notebook>=4.4.1->widgetsnbextension~=3.5.0->ipywidgets>=7.0.0->pydeck>=0.1.dev5->streamlit) (5.6.1)\n",
            "Requirement already satisfied: Send2Trash in /usr/local/lib/python3.7/dist-packages (from notebook>=4.4.1->widgetsnbextension~=3.5.0->ipywidgets>=7.0.0->pydeck>=0.1.dev5->streamlit) (1.8.0)\n",
            "Requirement already satisfied: defusedxml in /usr/local/lib/python3.7/dist-packages (from nbconvert->notebook>=4.4.1->widgetsnbextension~=3.5.0->ipywidgets>=7.0.0->pydeck>=0.1.dev5->streamlit) (0.7.1)\n",
            "Requirement already satisfied: bleach in /usr/local/lib/python3.7/dist-packages (from nbconvert->notebook>=4.4.1->widgetsnbextension~=3.5.0->ipywidgets>=7.0.0->pydeck>=0.1.dev5->streamlit) (4.1.0)\n",
            "Requirement already satisfied: testpath in /usr/local/lib/python3.7/dist-packages (from nbconvert->notebook>=4.4.1->widgetsnbextension~=3.5.0->ipywidgets>=7.0.0->pydeck>=0.1.dev5->streamlit) (0.6.0)\n",
            "Requirement already satisfied: mistune<2,>=0.8.1 in /usr/local/lib/python3.7/dist-packages (from nbconvert->notebook>=4.4.1->widgetsnbextension~=3.5.0->ipywidgets>=7.0.0->pydeck>=0.1.dev5->streamlit) (0.8.4)\n",
            "Requirement already satisfied: pandocfilters>=1.4.1 in /usr/local/lib/python3.7/dist-packages (from nbconvert->notebook>=4.4.1->widgetsnbextension~=3.5.0->ipywidgets>=7.0.0->pydeck>=0.1.dev5->streamlit) (1.5.0)\n",
            "Requirement already satisfied: webencodings in /usr/local/lib/python3.7/dist-packages (from bleach->nbconvert->notebook>=4.4.1->widgetsnbextension~=3.5.0->ipywidgets>=7.0.0->pydeck>=0.1.dev5->streamlit) (0.5.1)\n",
            "Requirement already satisfied: pyparsing!=3.0.5,>=2.0.2 in /usr/local/lib/python3.7/dist-packages (from packaging->streamlit) (3.0.7)\n",
            "Requirement already satisfied: idna<3,>=2.5 in /usr/local/lib/python3.7/dist-packages (from requests->streamlit) (2.10)\n",
            "Requirement already satisfied: certifi>=2017.4.17 in /usr/local/lib/python3.7/dist-packages (from requests->streamlit) (2021.10.8)\n",
            "Requirement already satisfied: chardet<4,>=3.0.2 in /usr/local/lib/python3.7/dist-packages (from requests->streamlit) (3.0.4)\n",
            "Requirement already satisfied: urllib3!=1.25.0,!=1.25.1,<1.26,>=1.21.1 in /usr/local/lib/python3.7/dist-packages (from requests->streamlit) (1.24.3)\n"
          ]
        }
      ]
    },
    {
      "cell_type": "markdown",
      "metadata": {
        "id": "IGWtPwjpKcr_"
      },
      "source": [
        "### **06.b.Carregar os dados necessários.**"
      ]
    },
    {
      "cell_type": "markdown",
      "metadata": {
        "id": "DvHY8j2ZKiaI"
      },
      "source": [
        "Lembre-se de carregar, aqui no Google Colab, o arquivo **`dados_de_credito_limpo.csv`** com os dados já tratados na última aula."
      ]
    },
    {
      "cell_type": "markdown",
      "metadata": {
        "id": "EcvTSoqgLDgK"
      },
      "source": [
        "### **06.c.Criar o arquivo do aplicativo Streamlit.**"
      ]
    },
    {
      "cell_type": "markdown",
      "metadata": {
        "id": "l8XQDWFgLNuj"
      },
      "source": [
        "- Para criar o aplicativo com o **Streamlit** teremos que criar um arquivo em Python chamado **`site_analise_de_credito.py`** com o comando **`%%writefile`**.\n"
      ]
    },
    {
      "cell_type": "code",
      "metadata": {
        "id": "EKjR8U8vjyOB",
        "colab": {
          "base_uri": "https://localhost:8080/"
        },
        "outputId": "6e1e0402-0e5d-46dd-ff78-f2aa304b7792"
      },
      "source": [
        "# Criar o arquivo do site\n",
        "%%writefile site_analise_de_credito.py \n",
        "\n",
        "# IMPORTAR AS BIBLIOTECAS NECESSÁRIAS E O ALGORIMO K-NN\n",
        "import streamlit as st\n",
        "import pandas as pd\n",
        "from sklearn.neighbors import KNeighborsClassifier\n",
        "\n",
        "# CRIAR FUNÇÕES NECESSÁRIAS PARA CARREGAR DADOS E TREINAR MODELO.\n",
        "\n",
        "# Função para carregar o dataset\n",
        "@st.cache\n",
        "def carregar_dados():\n",
        "  return pd.read_csv('/content/dados_de_credito_limpo.csv')\n",
        "\n",
        "# Função para treinar o modelo\n",
        "def treinar_modelo():\n",
        "  df = carregar_dados()\n",
        "  X_atributos_preditores = df.iloc[:,1:4].values\n",
        "  y_atributo_alvo = df.iloc[:,4].values\n",
        "  modelo_knn_classificacao = KNeighborsClassifier(n_neighbors=5,metric='minkowski', p=2)\n",
        "  modelo_knn_classificacao.fit(X_atributos_preditores,y_atributo_alvo)\n",
        "  return modelo_knn_classificacao\n",
        "\n",
        "# MODELO DE CLASSIFICAÇÃO\n",
        "# treinando o modelo\n",
        "modelo = treinar_modelo()\n",
        "  \n",
        "# SITE\n",
        "# Título do site\n",
        "st.title(\"Site para classificar empréstimo.\")\n",
        "\n",
        "# Subtítulo \n",
        "st.subheader(\"Insira seus dados.\")\n",
        "\n",
        "# Recebendo os dados do usuário.\n",
        "salario = st.number_input(\"Salário\", value=0)\n",
        "idade = st.number_input(\"Idade\", value=0)\n",
        "valor_emprestimo = st.number_input(\"Valor empréstimo\", value=0)\n",
        "\n",
        "# Botão para realizar a avaliação de crédito.\n",
        "botao_realizar_avaliacao = st.button(\"Realizar avaliação\")\n",
        "\n",
        "# SE o botão seja acionado.\n",
        "# 01.Coletar todos os dados que o usuário informou.\n",
        "# 02.Usar os dados para predizer o resultado. Crédito aprovado ou reprovado.\n",
        "# 03.Mostrar o resultado da avaliação.\n",
        "if botao_realizar_avaliacao:\n",
        "    resultado = modelo.predict([[salario,idade,valor_emprestimo]])\n",
        "    st.subheader(\"Resultado: \")\n",
        "    if resultado == 0:\n",
        "      resultado_avaliacao = \"crédito aprovado\"\n",
        "    else:\n",
        "      resultado_avaliacao = \"crédito reprovado\"\n",
        "      \n",
        "    st.write(resultado_avaliacao)"
      ],
      "execution_count": null,
      "outputs": [
        {
          "output_type": "stream",
          "name": "stdout",
          "text": [
            "Overwriting site_analise_de_credito.py\n"
          ]
        }
      ]
    },
    {
      "cell_type": "markdown",
      "metadata": {
        "id": "i6rq_CLVQ17u"
      },
      "source": [
        "### **06.d.Implemente/visualize o site criado.**"
      ]
    },
    {
      "cell_type": "markdown",
      "metadata": {
        "id": "13yhPJ2hQ_ng"
      },
      "source": [
        "- Para isso, siga estes dois passos:\n",
        "\n",
        " - **01.Execute o site a partir de seu arquivo `site.py`:**\n",
        "  ````\n",
        "  !streamlit run site_analise_de_credito.py &>/dev/null&\n",
        "  ````\n",
        "\n",
        " - **02.Crie o link para poder acessar o site criado:**\n",
        "  ````\n",
        "  !npx localtunnel --port 8501\n",
        "  ````\n"
      ]
    },
    {
      "cell_type": "code",
      "metadata": {
        "id": "JyXZfr1Yj3b9",
        "colab": {
          "base_uri": "https://localhost:8080/"
        },
        "outputId": "7476061b-5c76-4d2d-eb08-42bd4b9e90c0"
      },
      "source": [
        "# 01.Execute o site a partir de seu arquivo `site_analise_de_credito.py`.\n",
        "!streamlit run site_analise_de_credito.py &>/dev/null&\n",
        "\n",
        "# 02.Crie o link para poder acessar o site criado.\n",
        "!npx localtunnel --port 8501"
      ],
      "execution_count": null,
      "outputs": [
        {
          "metadata": {
            "tags": null
          },
          "name": "stdout",
          "output_type": "stream",
          "text": [
            "\u001b[K\u001b[?25hnpx: installed 22 in 4.176s\n",
            "your url is: https://plastic-quail-26.loca.lt\n"
          ]
        }
      ]
    }
  ]
}